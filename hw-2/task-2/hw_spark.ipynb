{
 "cells": [
  {
   "cell_type": "markdown",
   "id": "6dc6359a-cebf-4c29-b2a1-8ded62c8a013",
   "metadata": {
    "jp-MarkdownHeadingCollapsed": true
   },
   "source": [
    "# Settings"
   ]
  },
  {
   "cell_type": "markdown",
   "id": "d209790f-2b85-4f74-917c-506ff79f69b5",
   "metadata": {
    "jp-MarkdownHeadingCollapsed": true
   },
   "source": [
    "## Imports"
   ]
  },
  {
   "cell_type": "code",
   "execution_count": 111,
   "id": "6de786db-f8ba-4a03-805c-998e2d29553c",
   "metadata": {},
   "outputs": [],
   "source": [
    "import numpy as np\n",
    "import pyspark\n",
    "\n",
    "from pyspark import SparkContext, SparkConf\n",
    "from pyspark.sql import SparkSession\n",
    "from pyspark.sql.types import *\n",
    "import pyspark.sql.functions as f\n",
    "from pyspark.sql.functions import col"
   ]
  },
  {
   "cell_type": "markdown",
   "id": "58b0533d-8f4e-4d4d-8721-fd3a820d5fc0",
   "metadata": {},
   "source": [
    "## Disable safemode"
   ]
  },
  {
   "cell_type": "code",
   "execution_count": 3,
   "id": "3bfdb625-1771-4741-b2e3-0536c682f2e1",
   "metadata": {},
   "outputs": [
    {
     "name": "stdout",
     "output_type": "stream",
     "text": [
      "2023-12-13 19:18:42 WARN  NativeCodeLoader:60 - Unable to load native-hadoop library for your platform... using builtin-java classes where applicable\n",
      "Safe mode is OFF\n"
     ]
    }
   ],
   "source": [
    "!hdfs dfsadmin -safemode leave"
   ]
  },
  {
   "cell_type": "markdown",
   "id": "bcceab33-ea6e-432c-9f23-4d73e7dbedbe",
   "metadata": {
    "jp-MarkdownHeadingCollapsed": true
   },
   "source": [
    "# SparkSession (30 points)"
   ]
  },
  {
   "cell_type": "code",
   "execution_count": 4,
   "id": "c0ab1430-4711-477c-96d8-0aec17f73c90",
   "metadata": {},
   "outputs": [],
   "source": [
    "conf = SparkConf().set(\"spark.executor.instances\", \"2\").set(\"spark.executor.cores\", \"1\").set(\"spark.executor.memory\", \"1g\")"
   ]
  },
  {
   "cell_type": "code",
   "execution_count": 5,
   "id": "d22ae6f7-ec4b-4517-b7f3-94ac576519f6",
   "metadata": {},
   "outputs": [
    {
     "name": "stderr",
     "output_type": "stream",
     "text": [
      "Setting default log level to \"WARN\".\n",
      "To adjust logging level use sc.setLogLevel(newLevel). For SparkR, use setLogLevel(newLevel).\n",
      "23/12/13 19:18:47 WARN NativeCodeLoader: Unable to load native-hadoop library for your platform... using builtin-java classes where applicable\n",
      "23/12/13 19:18:48 WARN Client: Neither spark.yarn.jars nor spark.yarn.archive is set, falling back to uploading libraries under SPARK_HOME.\n"
     ]
    }
   ],
   "source": [
    "spark = SparkSession.builder.master(\"yarn\").appName(\"Denisov_spark\").config(conf=conf).getOrCreate()"
   ]
  },
  {
   "cell_type": "code",
   "execution_count": 7,
   "id": "9546a342-78a9-4201-81f3-782ad91ce302",
   "metadata": {},
   "outputs": [
    {
     "data": {
      "text/html": [
       "\n",
       "            <div>\n",
       "                <p><b>SparkSession - in-memory</b></p>\n",
       "                \n",
       "        <div>\n",
       "            <p><b>SparkContext</b></p>\n",
       "\n",
       "            <p><a href=\"http://bdd116705fd2:4040\">Spark UI</a></p>\n",
       "\n",
       "            <dl>\n",
       "              <dt>Version</dt>\n",
       "                <dd><code>v3.5.0</code></dd>\n",
       "              <dt>Master</dt>\n",
       "                <dd><code>yarn</code></dd>\n",
       "              <dt>AppName</dt>\n",
       "                <dd><code>Denisov_spark</code></dd>\n",
       "            </dl>\n",
       "        </div>\n",
       "        \n",
       "            </div>\n",
       "        "
      ],
      "text/plain": [
       "<pyspark.sql.session.SparkSession at 0xffff58f6dea0>"
      ]
     },
     "execution_count": 7,
     "metadata": {},
     "output_type": "execute_result"
    }
   ],
   "source": [
    "spark"
   ]
  },
  {
   "cell_type": "markdown",
   "id": "7ce1a532-ff1b-450a-852e-98dbcd4fb1b0",
   "metadata": {
    "jp-MarkdownHeadingCollapsed": true
   },
   "source": [
    "# View datasets (10 points)"
   ]
  },
  {
   "cell_type": "markdown",
   "id": "b9bef17e-3c90-4411-8f0d-782471e9ef4f",
   "metadata": {
    "jp-MarkdownHeadingCollapsed": true
   },
   "source": [
    "## HDFS work"
   ]
  },
  {
   "cell_type": "code",
   "execution_count": 8,
   "id": "1c7e3d88-1523-4470-8c7a-8ac315574a63",
   "metadata": {},
   "outputs": [
    {
     "name": "stdout",
     "output_type": "stream",
     "text": [
      "2023-12-13 19:24:42 WARN  NativeCodeLoader:60 - Unable to load native-hadoop library for your platform... using builtin-java classes where applicable\n",
      "Deleted ml-latest-small\n"
     ]
    }
   ],
   "source": [
    "!hdfs dfs -rm -r ml-latest-small"
   ]
  },
  {
   "cell_type": "code",
   "execution_count": 9,
   "id": "2561ce36-ba60-4e39-89c8-78eb24714a48",
   "metadata": {},
   "outputs": [
    {
     "name": "stdout",
     "output_type": "stream",
     "text": [
      "2023-12-13 19:24:55 WARN  NativeCodeLoader:60 - Unable to load native-hadoop library for your platform... using builtin-java classes where applicable\n",
      "Found 1 items\n",
      "drwxr-xr-x   - root supergroup          0 2023-12-13 19:18 .sparkStaging\n"
     ]
    }
   ],
   "source": [
    "!hdfs dfs -ls ."
   ]
  },
  {
   "cell_type": "code",
   "execution_count": 10,
   "id": "8b7405e6-236b-460b-9188-5f4504d19beb",
   "metadata": {},
   "outputs": [
    {
     "name": "stdout",
     "output_type": "stream",
     "text": [
      "2023-12-13 19:25:04 WARN  NativeCodeLoader:60 - Unable to load native-hadoop library for your platform... using builtin-java classes where applicable\n"
     ]
    }
   ],
   "source": [
    "!hdfs dfs -put ml-latest-small ."
   ]
  },
  {
   "cell_type": "code",
   "execution_count": 11,
   "id": "ea8475bc-ef95-4b67-bce8-6639366eee4b",
   "metadata": {},
   "outputs": [
    {
     "name": "stdout",
     "output_type": "stream",
     "text": [
      "2023-12-13 19:25:10 WARN  NativeCodeLoader:60 - Unable to load native-hadoop library for your platform... using builtin-java classes where applicable\n",
      "Found 2 items\n",
      "drwxr-xr-x   - root supergroup          0 2023-12-13 19:18 .sparkStaging\n",
      "drwxr-xr-x   - root supergroup          0 2023-12-13 19:25 ml-latest-small\n"
     ]
    }
   ],
   "source": [
    "!hdfs dfs -ls ."
   ]
  },
  {
   "cell_type": "code",
   "execution_count": 12,
   "id": "e6c6388b-c3f0-41d9-a918-c8e7e980ea28",
   "metadata": {},
   "outputs": [
    {
     "name": "stdout",
     "output_type": "stream",
     "text": [
      "2023-12-13 19:26:55 WARN  NativeCodeLoader:60 - Unable to load native-hadoop library for your platform... using builtin-java classes where applicable\n",
      "Found 5 items\n",
      "-rw-r--r--   3 root supergroup       8342 2023-12-13 19:25 ml-latest-small/README.txt\n",
      "-rw-r--r--   3 root supergroup     197979 2023-12-13 19:25 ml-latest-small/links.csv\n",
      "-rw-r--r--   3 root supergroup     494431 2023-12-13 19:25 ml-latest-small/movies.csv\n",
      "-rw-r--r--   3 root supergroup    2483723 2023-12-13 19:25 ml-latest-small/ratings.csv\n",
      "-rw-r--r--   3 root supergroup     118660 2023-12-13 19:25 ml-latest-small/tags.csv\n"
     ]
    }
   ],
   "source": [
    "!hdfs dfs -ls ml-latest-small"
   ]
  },
  {
   "cell_type": "markdown",
   "id": "8a00b0b3-490c-4c69-84e5-ec098bc15d16",
   "metadata": {
    "jp-MarkdownHeadingCollapsed": true
   },
   "source": [
    "## PySpark work"
   ]
  },
  {
   "cell_type": "code",
   "execution_count": 14,
   "id": "f636998e-19aa-4b85-b2ca-b9c9433cf663",
   "metadata": {},
   "outputs": [],
   "source": [
    "ratings_schema = StructType(fields=[\n",
    "    StructField(\"userId\", IntegerType()),\n",
    "    StructField(\"movieId\", IntegerType()),\n",
    "    StructField(\"rating\", DoubleType()),\n",
    "    StructField(\"timestamp\", LongType()),\n",
    "])"
   ]
  },
  {
   "cell_type": "code",
   "execution_count": 15,
   "id": "a51f1d17-27eb-4528-b34d-123ab9ccd905",
   "metadata": {},
   "outputs": [
    {
     "name": "stdout",
     "output_type": "stream",
     "text": [
      "CPU times: user 3.57 ms, sys: 1.46 ms, total: 5.02 ms\n",
      "Wall time: 650 ms\n"
     ]
    }
   ],
   "source": [
    "%%time\n",
    "ratings_df = spark\\\n",
    "    .read\\\n",
    "    .format(\"csv\")\\\n",
    "    .option(\"header\", \"True\")\\\n",
    "    .schema(ratings_schema)\\\n",
    "    .load(\"ml-latest-small/ratings.csv\")"
   ]
  },
  {
   "cell_type": "code",
   "execution_count": 16,
   "id": "c20c5a11-836b-414b-a606-eae057d0a3be",
   "metadata": {},
   "outputs": [
    {
     "data": {
      "text/plain": [
       "DataFrame[userId: int, movieId: int, rating: double, timestamp: bigint]"
      ]
     },
     "execution_count": 16,
     "metadata": {},
     "output_type": "execute_result"
    }
   ],
   "source": [
    "ratings_df"
   ]
  },
  {
   "cell_type": "code",
   "execution_count": 17,
   "id": "99558008-35fc-49d4-bfc0-31a58190e768",
   "metadata": {},
   "outputs": [
    {
     "name": "stdout",
     "output_type": "stream",
     "text": [
      "root\n",
      " |-- userId: integer (nullable = true)\n",
      " |-- movieId: integer (nullable = true)\n",
      " |-- rating: double (nullable = true)\n",
      " |-- timestamp: long (nullable = true)\n",
      "\n"
     ]
    }
   ],
   "source": [
    "ratings_df.printSchema()"
   ]
  },
  {
   "cell_type": "code",
   "execution_count": 18,
   "id": "63d17abe-1b18-42ff-8983-bc7093c40c88",
   "metadata": {},
   "outputs": [
    {
     "name": "stderr",
     "output_type": "stream",
     "text": [
      "                                                                                \r"
     ]
    },
    {
     "name": "stdout",
     "output_type": "stream",
     "text": [
      "+------+-------+------+---------+\n",
      "|userId|movieId|rating|timestamp|\n",
      "+------+-------+------+---------+\n",
      "|     1|      1|   4.0|964982703|\n",
      "|     1|      3|   4.0|964981247|\n",
      "|     1|      6|   4.0|964982224|\n",
      "|     1|     47|   5.0|964983815|\n",
      "|     1|     50|   5.0|964982931|\n",
      "+------+-------+------+---------+\n",
      "only showing top 5 rows\n",
      "\n"
     ]
    }
   ],
   "source": [
    "ratings_df.show(5)"
   ]
  },
  {
   "cell_type": "code",
   "execution_count": 20,
   "id": "9510af78-57b1-45d7-b2cd-c9122f12d42e",
   "metadata": {},
   "outputs": [
    {
     "name": "stderr",
     "output_type": "stream",
     "text": [
      "23/12/13 19:28:05 WARN SparkStringUtils: Truncated the string representation of a plan since it was too large. This behavior can be adjusted by setting 'spark.sql.debug.maxToStringFields'.\n",
      "[Stage 1:>                                                          (0 + 1) / 1]\r"
     ]
    },
    {
     "name": "stdout",
     "output_type": "stream",
     "text": [
      "+-------+------------------+----------------+------------------+--------------------+\n",
      "|summary|            userId|         movieId|            rating|           timestamp|\n",
      "+-------+------------------+----------------+------------------+--------------------+\n",
      "|  count|            100836|          100836|            100836|              100836|\n",
      "|   mean|326.12756356856676|19435.2957177992| 3.501556983616962|1.2059460873684695E9|\n",
      "| stddev| 182.6184914635004|35530.9871987003|1.0425292390606342|2.1626103599513078E8|\n",
      "|    min|                 1|               1|               0.5|           828124615|\n",
      "|    25%|               177|            1199|               3.0|          1018535155|\n",
      "|    50%|               325|            2991|               3.5|          1186086516|\n",
      "|    75%|               477|            8092|               4.0|          1435993828|\n",
      "|    max|               610|          193609|               5.0|          1537799250|\n",
      "+-------+------------------+----------------+------------------+--------------------+\n",
      "\n"
     ]
    },
    {
     "name": "stderr",
     "output_type": "stream",
     "text": [
      "                                                                                \r"
     ]
    }
   ],
   "source": [
    "ratings_df.summary().show()"
   ]
  },
  {
   "cell_type": "code",
   "execution_count": 21,
   "id": "86edb81b-7912-48fd-a040-2cf57a1c4348",
   "metadata": {},
   "outputs": [
    {
     "name": "stderr",
     "output_type": "stream",
     "text": [
      "                                                                                \r"
     ]
    },
    {
     "data": {
      "text/plain": [
       "100836"
      ]
     },
     "execution_count": 21,
     "metadata": {},
     "output_type": "execute_result"
    }
   ],
   "source": [
    "ratings_df.count() # 2 stages, 2 tasks"
   ]
  },
  {
   "cell_type": "code",
   "execution_count": 98,
   "id": "dd74b36b-9857-45b9-a6c2-37c90c103248",
   "metadata": {},
   "outputs": [
    {
     "name": "stdout",
     "output_type": "stream",
     "text": [
      "+-------+------------------+----------------+------------------+--------------------+\n",
      "|summary|            userId|         movieId|            rating|           timestamp|\n",
      "+-------+------------------+----------------+------------------+--------------------+\n",
      "|  count|            100836|          100836|            100836|              100836|\n",
      "|   mean|326.12756356856676|19435.2957177992| 3.501556983616962|1.2059460873684695E9|\n",
      "| stddev| 182.6184914635004|35530.9871987003|1.0425292390606342|2.1626103599513078E8|\n",
      "|    min|                 1|               1|               0.5|           828124615|\n",
      "|    25%|               177|            1199|               3.0|          1018535155|\n",
      "|    50%|               325|            2991|               3.5|          1186086516|\n",
      "|    75%|               477|            8092|               4.0|          1435993828|\n",
      "|    max|               610|          193609|               5.0|          1537799250|\n",
      "+-------+------------------+----------------+------------------+--------------------+\n",
      "\n"
     ]
    }
   ],
   "source": [
    "ratings_df.summary().show()"
   ]
  },
  {
   "cell_type": "code",
   "execution_count": 22,
   "id": "0e4fe205-3ada-4382-9d6d-7d0518b9671d",
   "metadata": {},
   "outputs": [
    {
     "name": "stdout",
     "output_type": "stream",
     "text": [
      "CPU times: user 10.4 ms, sys: 1.85 ms, total: 12.3 ms\n",
      "Wall time: 320 ms\n"
     ]
    }
   ],
   "source": [
    "%%time\n",
    "tags_df = spark.read.format(\"csv\").option(\"header\", \"True\").load(\"ml-latest-small/tags.csv\")"
   ]
  },
  {
   "cell_type": "code",
   "execution_count": 92,
   "id": "ba3cbc58-9613-462b-b8d4-42d2300e431e",
   "metadata": {},
   "outputs": [
    {
     "name": "stdout",
     "output_type": "stream",
     "text": [
      "+------+-------+---------------+----------+\n",
      "|userId|movieId|            tag| timestamp|\n",
      "+------+-------+---------------+----------+\n",
      "|     2|  60756|          funny|1445714994|\n",
      "|     2|  60756|Highly quotable|1445714996|\n",
      "|     2|  60756|   will ferrell|1445714992|\n",
      "|     2|  89774|   Boxing story|1445715207|\n",
      "|     2|  89774|            MMA|1445715200|\n",
      "+------+-------+---------------+----------+\n",
      "only showing top 5 rows\n",
      "\n"
     ]
    }
   ],
   "source": [
    "tags_df.show(5)"
   ]
  },
  {
   "cell_type": "code",
   "execution_count": 23,
   "id": "6a5b788d-5544-4bb9-a9b8-d602d18175e5",
   "metadata": {},
   "outputs": [
    {
     "data": {
      "text/plain": [
       "3683"
      ]
     },
     "execution_count": 23,
     "metadata": {},
     "output_type": "execute_result"
    }
   ],
   "source": [
    "tags_df.count() # 2 stages, 2 tasks"
   ]
  },
  {
   "cell_type": "code",
   "execution_count": 93,
   "id": "ce76242e-df83-40a2-b7f9-f11aaf484de0",
   "metadata": {},
   "outputs": [],
   "source": [
    "tags_schema = StructType(fields=[\n",
    "    StructField(\"userId\", IntegerType()),\n",
    "    StructField(\"movieId\", IntegerType()),\n",
    "    StructField(\"tag\", StringType()),\n",
    "    StructField(\"timestamp\", LongType()),\n",
    "])"
   ]
  },
  {
   "cell_type": "code",
   "execution_count": 94,
   "id": "269a6eb1-bf9b-410d-a98e-6898da2370b4",
   "metadata": {},
   "outputs": [
    {
     "name": "stdout",
     "output_type": "stream",
     "text": [
      "CPU times: user 5.66 ms, sys: 1.43 ms, total: 7.09 ms\n",
      "Wall time: 32.7 ms\n"
     ]
    }
   ],
   "source": [
    "%%time\n",
    "tags_df = spark\\\n",
    "    .read\\\n",
    "    .format(\"csv\")\\\n",
    "    .option(\"header\", \"True\")\\\n",
    "    .schema(tags_schema)\\\n",
    "    .load(\"ml-latest-small/tags.csv\")"
   ]
  },
  {
   "cell_type": "code",
   "execution_count": 99,
   "id": "772716c5-3201-437a-82c3-4d95d20c7ff9",
   "metadata": {},
   "outputs": [
    {
     "name": "stdout",
     "output_type": "stream",
     "text": [
      "+-------+------------------+-----------------+-----------+--------------------+\n",
      "|summary|            userId|          movieId|        tag|           timestamp|\n",
      "+-------+------------------+-----------------+-----------+--------------------+\n",
      "|  count|              3683|             3683|       3683|                3683|\n",
      "|   mean| 431.1493347814282|27252.01357588922|       NULL| 1.320031966823785E9|\n",
      "| stddev|158.47255348483532|43490.55880276775|       NULL|1.7210245043712625E8|\n",
      "|    min|                 2|                1|\"\"\"artsy\"\"\"|          1137179352|\n",
      "|    25%|               424|             1262|       NULL|          1137521204|\n",
      "|    50%|               474|             4454|       NULL|          1269832564|\n",
      "|    75%|               477|            39292|       NULL|          1498456766|\n",
      "|    max|               610|           193565|    zombies|          1537098603|\n",
      "+-------+------------------+-----------------+-----------+--------------------+\n",
      "\n"
     ]
    }
   ],
   "source": [
    "tags_df.summary().show()"
   ]
  },
  {
   "cell_type": "markdown",
   "id": "681829af-aa8f-4daa-82dc-fbc7fe247f08",
   "metadata": {
    "jp-MarkdownHeadingCollapsed": true
   },
   "source": [
    "# Work with data (30 points)"
   ]
  },
  {
   "cell_type": "markdown",
   "id": "8c45b842-4c02-47c9-b1a8-df4abe3f992e",
   "metadata": {
    "jp-MarkdownHeadingCollapsed": true
   },
   "source": [
    "## Count number of unique films and unique users in `ratings` (5 points)"
   ]
  },
  {
   "cell_type": "code",
   "execution_count": 24,
   "id": "2893f21f-eb04-4c26-b141-14b633bcd1c4",
   "metadata": {},
   "outputs": [
    {
     "name": "stdout",
     "output_type": "stream",
     "text": [
      "+------+-------+------+---------+\n",
      "|userId|movieId|rating|timestamp|\n",
      "+------+-------+------+---------+\n",
      "|     1|      1|   4.0|964982703|\n",
      "|     1|      3|   4.0|964981247|\n",
      "|     1|      6|   4.0|964982224|\n",
      "|     1|     47|   5.0|964983815|\n",
      "|     1|     50|   5.0|964982931|\n",
      "+------+-------+------+---------+\n",
      "only showing top 5 rows\n",
      "\n"
     ]
    }
   ],
   "source": [
    "ratings_df.show(5)"
   ]
  },
  {
   "cell_type": "code",
   "execution_count": 65,
   "id": "d1780341-0378-45c7-a50c-f621dab4d4c8",
   "metadata": {},
   "outputs": [
    {
     "data": {
      "text/plain": [
       "9724"
      ]
     },
     "execution_count": 65,
     "metadata": {},
     "output_type": "execute_result"
    }
   ],
   "source": [
    "ratings_df.groupby(\"movieId\").count().count()"
   ]
  },
  {
   "cell_type": "code",
   "execution_count": 66,
   "id": "59555f6e-e992-4c3d-b2db-b06f8df3fd55",
   "metadata": {},
   "outputs": [
    {
     "data": {
      "text/plain": [
       "610"
      ]
     },
     "execution_count": 66,
     "metadata": {},
     "output_type": "execute_result"
    }
   ],
   "source": [
    "ratings_df.groupby(\"userId\").count().count()"
   ]
  },
  {
   "cell_type": "markdown",
   "id": "c058974f-058c-4131-acd5-d2915fe1b248",
   "metadata": {
    "jp-MarkdownHeadingCollapsed": true
   },
   "source": [
    "## Count number of rating >= 4.0 (5 points)"
   ]
  },
  {
   "cell_type": "code",
   "execution_count": 67,
   "id": "509d29fa-c2aa-4683-8154-cd048342b431",
   "metadata": {},
   "outputs": [
    {
     "name": "stdout",
     "output_type": "stream",
     "text": [
      "+------+-------+------+---------+\n",
      "|userId|movieId|rating|timestamp|\n",
      "+------+-------+------+---------+\n",
      "|     1|      1|   4.0|964982703|\n",
      "|     1|      3|   4.0|964981247|\n",
      "|     1|      6|   4.0|964982224|\n",
      "|     1|     47|   5.0|964983815|\n",
      "|     1|     50|   5.0|964982931|\n",
      "+------+-------+------+---------+\n",
      "only showing top 5 rows\n",
      "\n"
     ]
    }
   ],
   "source": [
    "ratings_df.show(5)"
   ]
  },
  {
   "cell_type": "code",
   "execution_count": 71,
   "id": "df3d9dfd-f0c7-46bb-8eaf-f0404a2334ed",
   "metadata": {},
   "outputs": [
    {
     "data": {
      "text/plain": [
       "48580"
      ]
     },
     "execution_count": 71,
     "metadata": {},
     "output_type": "execute_result"
    }
   ],
   "source": [
    "ratings_df.filter(f.col(\"rating\") >= 4.0).count()"
   ]
  },
  {
   "cell_type": "markdown",
   "id": "116577a9-1b64-4c96-8827-f943516d4272",
   "metadata": {
    "jp-MarkdownHeadingCollapsed": true
   },
   "source": [
    "## Print top-100 films with the highest rating (6 points)"
   ]
  },
  {
   "cell_type": "code",
   "execution_count": 72,
   "id": "52c6eb5b-824b-4ce7-8c44-0a97c2368308",
   "metadata": {},
   "outputs": [
    {
     "name": "stdout",
     "output_type": "stream",
     "text": [
      "+------+-------+------+---------+\n",
      "|userId|movieId|rating|timestamp|\n",
      "+------+-------+------+---------+\n",
      "|     1|      1|   4.0|964982703|\n",
      "|     1|      3|   4.0|964981247|\n",
      "|     1|      6|   4.0|964982224|\n",
      "|     1|     47|   5.0|964983815|\n",
      "|     1|     50|   5.0|964982931|\n",
      "+------+-------+------+---------+\n",
      "only showing top 5 rows\n",
      "\n"
     ]
    }
   ],
   "source": [
    "ratings_df.show(5)"
   ]
  },
  {
   "cell_type": "code",
   "execution_count": 81,
   "id": "4fd007ea-7c22-4447-92a9-220e76b644c5",
   "metadata": {},
   "outputs": [
    {
     "name": "stdout",
     "output_type": "stream",
     "text": [
      "+-------+------------------+----------------+------------------+--------------------+\n",
      "|summary|            userId|         movieId|            rating|           timestamp|\n",
      "+-------+------------------+----------------+------------------+--------------------+\n",
      "|  count|            100836|          100836|            100836|              100836|\n",
      "|   mean|326.12756356856676|19435.2957177992| 3.501556983616962|1.2059460873684695E9|\n",
      "| stddev| 182.6184914635004|35530.9871987003|1.0425292390606342|2.1626103599513078E8|\n",
      "|    min|                 1|               1|               0.5|           828124615|\n",
      "|    25%|               177|            1199|               3.0|          1018535155|\n",
      "|    50%|               325|            2991|               3.5|          1186086516|\n",
      "|    75%|               477|            8092|               4.0|          1435993828|\n",
      "|    max|               610|          193609|               5.0|          1537799250|\n",
      "+-------+------------------+----------------+------------------+--------------------+\n",
      "\n"
     ]
    }
   ],
   "source": [
    "ratings_df.summary().show()"
   ]
  },
  {
   "cell_type": "code",
   "execution_count": 89,
   "id": "e08daa31-7e75-4ce5-ae45-17adb6d95406",
   "metadata": {},
   "outputs": [
    {
     "name": "stdout",
     "output_type": "stream",
     "text": [
      "+------+-------+------+---------+\n",
      "|userId|movieId|rating|timestamp|\n",
      "+------+-------+------+---------+\n",
      "|     1|   1617|   5.0|964982951|\n",
      "|     1|   1625|   5.0|964983504|\n",
      "|     1|     47|   5.0|964983815|\n",
      "|     1|   1732|   5.0|964981125|\n",
      "|     1|    101|   5.0|964980868|\n",
      "|     1|   1804|   5.0|964983034|\n",
      "|     1|    157|   5.0|964984100|\n",
      "|     1|   1927|   5.0|964981497|\n",
      "|     1|    216|   5.0|964981208|\n",
      "|     1|   1954|   5.0|964982176|\n",
      "|     1|    260|   5.0|964981680|\n",
      "|     1|   2005|   5.0|964981710|\n",
      "|     1|    362|   5.0|964982588|\n",
      "|     1|   2018|   5.0|964980523|\n",
      "|     1|    527|   5.0|964984002|\n",
      "|     1|   2033|   5.0|964982903|\n",
      "|     1|    596|   5.0|964982838|\n",
      "|     1|   2048|   5.0|964982791|\n",
      "|     1|    661|   5.0|964982838|\n",
      "|     1|   2058|   5.0|964982400|\n",
      "|     1|    923|   5.0|964981529|\n",
      "|     1|   2078|   5.0|964982838|\n",
      "|     1|    954|   5.0|964983219|\n",
      "|     1|   2090|   5.0|964982838|\n",
      "|     1|   1024|   5.0|964982876|\n",
      "|     1|   2094|   5.0|964982653|\n",
      "|     1|   1029|   5.0|964982855|\n",
      "|     1|   2115|   5.0|964982529|\n",
      "|     1|   1032|   5.0|964982791|\n",
      "|     1|   2116|   5.0|964982876|\n",
      "|     1|   1073|   5.0|964981680|\n",
      "|     1|   2137|   5.0|964982791|\n",
      "|     1|   1089|   5.0|964982951|\n",
      "|     1|   2139|   5.0|964982791|\n",
      "|     1|   1097|   5.0|964981680|\n",
      "|     1|   2141|   5.0|964982838|\n",
      "|     1|   1196|   5.0|964981827|\n",
      "|     1|   2161|   5.0|964981710|\n",
      "|     1|   1198|   5.0|964981827|\n",
      "|     1|   2291|   5.0|964983664|\n",
      "|     1|   1210|   5.0|964980499|\n",
      "|     1|   2329|   5.0|964983263|\n",
      "|     1|   1220|   5.0|964981909|\n",
      "|     1|   2353|   5.0|964983861|\n",
      "|     1|   1224|   5.0|964984018|\n",
      "|     1|   2387|   5.0|964983123|\n",
      "|     1|   1240|   5.0|964983723|\n",
      "|     1|   2395|   5.0|964981093|\n",
      "|     1|   1270|   5.0|964983705|\n",
      "|     1|   2427|   5.0|964982242|\n",
      "|     1|   1278|   5.0|964983414|\n",
      "|     1|   2459|   5.0|964983414|\n",
      "|     1|   1291|   5.0|964981909|\n",
      "|     1|   2470|   5.0|964982588|\n",
      "|     1|   1517|   5.0|964981107|\n",
      "|     1|   2502|   5.0|964981278|\n",
      "|     1|   1587|   5.0|964982346|\n",
      "|     1|   2529|   5.0|964982242|\n",
      "|     1|     50|   5.0|964982931|\n",
      "|     1|   2542|   5.0|964981265|\n",
      "|     1|    163|   5.0|964983650|\n",
      "|     1|   2571|   5.0|964981888|\n",
      "|     1|    333|   5.0|964981179|\n",
      "|     1|   2580|   5.0|964983000|\n",
      "|     1|    553|   5.0|964984153|\n",
      "|     1|   2596|   5.0|964981144|\n",
      "|     1|    919|   5.0|964982475|\n",
      "|     1|   2641|   5.0|964982620|\n",
      "|     1|   1023|   5.0|964982681|\n",
      "|     1|   2654|   5.0|964983393|\n",
      "|     1|   1031|   5.0|964982653|\n",
      "|     1|   2692|   5.0|964981855|\n",
      "|     1|   1080|   5.0|964981327|\n",
      "|     1|   2700|   5.0|964980985|\n",
      "|     1|   1136|   5.0|964981327|\n",
      "|     1|   2716|   5.0|964983414|\n",
      "|     1|   1206|   5.0|964983737|\n",
      "|     1|   2761|   5.0|964982703|\n",
      "|     1|   1222|   5.0|964981909|\n",
      "|     1|   2858|   5.0|964980868|\n",
      "|     1|   1256|   5.0|964981442|\n",
      "|     1|   2872|   5.0|964981680|\n",
      "|     1|   1282|   5.0|964982703|\n",
      "|     1|   2899|   5.0|964982703|\n",
      "|     1|   1573|   5.0|964982290|\n",
      "|     1|   2944|   5.0|964981872|\n",
      "|     1|    151|   5.0|964984041|\n",
      "|     1|   2947|   5.0|964982176|\n",
      "|     1|    457|   5.0|964981909|\n",
      "|     1|   2948|   5.0|964982191|\n",
      "|     1|    940|   5.0|964982176|\n",
      "|     1|   2949|   5.0|964981888|\n",
      "|     1|   1049|   5.0|964982400|\n",
      "|     1|   2959|   5.0|964983282|\n",
      "|     1|   1197|   5.0|964981872|\n",
      "|     1|   2987|   5.0|964982495|\n",
      "|     1|   1226|   5.0|964983618|\n",
      "|     1|   2991|   5.0|964982271|\n",
      "|     1|   1298|   5.0|964984086|\n",
      "|     1|   2993|   5.0|964982242|\n",
      "+------+-------+------+---------+\n",
      "only showing top 100 rows\n",
      "\n"
     ]
    }
   ],
   "source": [
    "ratings_df.orderBy(\"rating\", ascending=False).show(100)"
   ]
  },
  {
   "cell_type": "markdown",
   "id": "c90f99de-180c-4d6a-a5b3-cfce000137b7",
   "metadata": {
    "jp-MarkdownHeadingCollapsed": true
   },
   "source": [
    "## Calculate diff in seconds between user tagging and user feedback. Print mean diff (7 points)"
   ]
  },
  {
   "cell_type": "code",
   "execution_count": 101,
   "id": "4a7c94fc-a072-4d6e-a859-00355b207e84",
   "metadata": {},
   "outputs": [
    {
     "name": "stdout",
     "output_type": "stream",
     "text": [
      "+------+-------+---------------+----------+\n",
      "|userId|movieId|            tag| timestamp|\n",
      "+------+-------+---------------+----------+\n",
      "|     2|  60756|          funny|1445714994|\n",
      "|     2|  60756|Highly quotable|1445714996|\n",
      "|     2|  60756|   will ferrell|1445714992|\n",
      "|     2|  89774|   Boxing story|1445715207|\n",
      "|     2|  89774|            MMA|1445715200|\n",
      "+------+-------+---------------+----------+\n",
      "only showing top 5 rows\n",
      "\n"
     ]
    }
   ],
   "source": [
    "tags_df.show(5)"
   ]
  },
  {
   "cell_type": "code",
   "execution_count": 103,
   "id": "84db117d-9533-44a2-b60b-8cf193cd01b2",
   "metadata": {},
   "outputs": [
    {
     "name": "stdout",
     "output_type": "stream",
     "text": [
      "+------+-------+------+---------+\n",
      "|userId|movieId|rating|timestamp|\n",
      "+------+-------+------+---------+\n",
      "|     1|      1|   4.0|964982703|\n",
      "|     1|      3|   4.0|964981247|\n",
      "|     1|      6|   4.0|964982224|\n",
      "|     1|     47|   5.0|964983815|\n",
      "|     1|     50|   5.0|964982931|\n",
      "+------+-------+------+---------+\n",
      "only showing top 5 rows\n",
      "\n"
     ]
    }
   ],
   "source": [
    "ratings_df.show(5)"
   ]
  },
  {
   "cell_type": "code",
   "execution_count": 106,
   "id": "8f546d96-bb22-42a4-85f2-c6a1e679b4d5",
   "metadata": {},
   "outputs": [],
   "source": [
    "ratings_with_tags_df = ratings_df.alias(\"r\").join(tags_df.alias(\"t\"), on=[\"userId\", \"movieId\"], how=\"inner\")"
   ]
  },
  {
   "cell_type": "code",
   "execution_count": 107,
   "id": "899b9452-d799-4489-90cb-7b029043b8b7",
   "metadata": {},
   "outputs": [
    {
     "name": "stdout",
     "output_type": "stream",
     "text": [
      "+------+-------+------+----------+---------------+----------+\n",
      "|userId|movieId|rating| timestamp|            tag| timestamp|\n",
      "+------+-------+------+----------+---------------+----------+\n",
      "|     2|  60756|   5.0|1445714980|   will ferrell|1445714992|\n",
      "|     2|  60756|   5.0|1445714980|Highly quotable|1445714996|\n",
      "|     2|  60756|   5.0|1445714980|          funny|1445714994|\n",
      "|     2|  89774|   5.0|1445715189|      Tom Hardy|1445715205|\n",
      "|     2|  89774|   5.0|1445715189|            MMA|1445715200|\n",
      "+------+-------+------+----------+---------------+----------+\n",
      "only showing top 5 rows\n",
      "\n"
     ]
    }
   ],
   "source": [
    "ratings_with_tags_df.show(5)"
   ]
  },
  {
   "cell_type": "code",
   "execution_count": 127,
   "id": "d208b1c3-0737-4b84-a1e6-be4c6c9f9360",
   "metadata": {},
   "outputs": [],
   "source": [
    "diffs = ratings_with_tags_df.select((col(\"t.timestamp\") - col(\"r.timestamp\")).alias(\"diff\"), col(\"t.timestamp\").alias(\"t\"), col(\"r.timestamp\").alias(\"r\"))"
   ]
  },
  {
   "cell_type": "code",
   "execution_count": 128,
   "id": "0d5a0232-f259-4935-98b5-ae27b7aa5c8d",
   "metadata": {},
   "outputs": [
    {
     "name": "stdout",
     "output_type": "stream",
     "text": [
      "+----+----------+----------+\n",
      "|diff|         t|         r|\n",
      "+----+----------+----------+\n",
      "|  12|1445714992|1445714980|\n",
      "|  16|1445714996|1445714980|\n",
      "|  14|1445714994|1445714980|\n",
      "|  16|1445715205|1445715189|\n",
      "|  11|1445715200|1445715189|\n",
      "+----+----------+----------+\n",
      "only showing top 5 rows\n",
      "\n"
     ]
    }
   ],
   "source": [
    "diffs.show(5)"
   ]
  },
  {
   "cell_type": "code",
   "execution_count": 129,
   "id": "b1bf900c-2b15-4596-937a-4d7b044a6811",
   "metadata": {},
   "outputs": [
    {
     "name": "stdout",
     "output_type": "stream",
     "text": [
      "+---------+----------+---------+\n",
      "|     diff|         t|        r|\n",
      "+---------+----------+---------+\n",
      "|163364688|1138032197|974667509|\n",
      "|163364688|1138032197|974667509|\n",
      "|163364502|1138032178|974667676|\n",
      "|163364494|1138031795|974667301|\n",
      "|163364330|1138031745|974667415|\n",
      "+---------+----------+---------+\n",
      "only showing top 5 rows\n",
      "\n"
     ]
    }
   ],
   "source": [
    "diffs.orderBy(col(\"diff\"), ascending=False).show(5)"
   ]
  },
  {
   "cell_type": "code",
   "execution_count": 139,
   "id": "e0f6b5be-b9c3-4bbb-a9ba-0a1b60dd0d0b",
   "metadata": {},
   "outputs": [
    {
     "name": "stdout",
     "output_type": "stream",
     "text": [
      "+----------+----------+----------+\n",
      "|      diff|         t|         r|\n",
      "+----------+----------+----------+\n",
      "|-201719480|1242160404|1443879884|\n",
      "|-201719457|1242160427|1443879884|\n",
      "|-158138193|1266408634|1424546827|\n",
      "|-158138189|1266408638|1424546827|\n",
      "|-158138186|1266408641|1424546827|\n",
      "+----------+----------+----------+\n",
      "only showing top 5 rows\n",
      "\n"
     ]
    }
   ],
   "source": [
    "diffs.orderBy(col(\"diff\"), ascending=True).show(5)"
   ]
  },
  {
   "cell_type": "code",
   "execution_count": 138,
   "id": "3a01df37-1b9b-4e45-b713-b71874dcaa2f",
   "metadata": {},
   "outputs": [
    {
     "name": "stdout",
     "output_type": "stream",
     "text": [
      "+--------------------+\n",
      "|           avg(diff)|\n",
      "+--------------------+\n",
      "|2.6243727372266974E7|\n",
      "+--------------------+\n",
      "\n"
     ]
    }
   ],
   "source": [
    "diffs.select(f.avg(f.col(\"diff\"))).show()"
   ]
  },
  {
   "cell_type": "code",
   "execution_count": 142,
   "id": "d0a8fe47-73f1-499a-938e-768f34e2ef97",
   "metadata": {},
   "outputs": [
    {
     "data": {
      "text/plain": [
       "26243.727372266974"
      ]
     },
     "execution_count": 142,
     "metadata": {},
     "output_type": "execute_result"
    }
   ],
   "source": [
    "diffs.select(f.avg(f.col(\"diff\"))).collect()[0][0] / 1000 # milliseconds to seconds. Approximately 18 hours..."
   ]
  },
  {
   "cell_type": "markdown",
   "id": "03effb1b-a812-4e9f-82c4-04eedf8fcdf0",
   "metadata": {
    "jp-MarkdownHeadingCollapsed": true
   },
   "source": [
    "## Calculate mean rating by every user. Print mean of that mean ratings (7 points)"
   ]
  },
  {
   "cell_type": "code",
   "execution_count": 144,
   "id": "970b6dd1-84b2-4ad5-8013-79f43d271983",
   "metadata": {},
   "outputs": [
    {
     "name": "stdout",
     "output_type": "stream",
     "text": [
      "+------+-------+------+---------+\n",
      "|userId|movieId|rating|timestamp|\n",
      "+------+-------+------+---------+\n",
      "|     1|      1|   4.0|964982703|\n",
      "|     1|      3|   4.0|964981247|\n",
      "|     1|      6|   4.0|964982224|\n",
      "|     1|     47|   5.0|964983815|\n",
      "|     1|     50|   5.0|964982931|\n",
      "+------+-------+------+---------+\n",
      "only showing top 5 rows\n",
      "\n"
     ]
    }
   ],
   "source": [
    "ratings_df.show(5)"
   ]
  },
  {
   "cell_type": "code",
   "execution_count": 153,
   "id": "22401237-bd2c-41d0-b5e4-f8eaa6adfc0c",
   "metadata": {},
   "outputs": [],
   "source": [
    "avg_ratings_by_users = ratings_df.groupby(\"userId\").avg(\"rating\")"
   ]
  },
  {
   "cell_type": "code",
   "execution_count": 155,
   "id": "a11e33cc-4f86-4ca0-9ed2-c8a47d572b1c",
   "metadata": {},
   "outputs": [
    {
     "name": "stdout",
     "output_type": "stream",
     "text": [
      "+------+------------------+\n",
      "|userId|       avg(rating)|\n",
      "+------+------------------+\n",
      "|   148|3.7395833333333335|\n",
      "|   463| 3.787878787878788|\n",
      "|   471|             3.875|\n",
      "|   496| 3.413793103448276|\n",
      "|   243| 4.138888888888889|\n",
      "+------+------------------+\n",
      "only showing top 5 rows\n",
      "\n"
     ]
    }
   ],
   "source": [
    "avg_ratings_by_users.show(5)"
   ]
  },
  {
   "cell_type": "code",
   "execution_count": 161,
   "id": "b465b325-3293-4b7f-bf01-bf3a73af9e53",
   "metadata": {},
   "outputs": [
    {
     "data": {
      "text/plain": [
       "3.6572223377474016"
      ]
     },
     "execution_count": 161,
     "metadata": {},
     "output_type": "execute_result"
    }
   ],
   "source": [
    "avg_ratings_by_users.agg(f.avg(\"avg(rating)\")).collect()[0][0] # answer"
   ]
  },
  {
   "cell_type": "code",
   "execution_count": 163,
   "id": "1fb8f606-24d5-4be1-a8e2-9a71f3236efd",
   "metadata": {},
   "outputs": [
    {
     "name": "stdout",
     "output_type": "stream",
     "text": [
      "+-----------------+\n",
      "|      avg(rating)|\n",
      "+-----------------+\n",
      "|3.501556983616962|\n",
      "+-----------------+\n",
      "\n"
     ]
    }
   ],
   "source": [
    "ratings_df.agg(f.avg(\"rating\")).show() # just want to compare"
   ]
  },
  {
   "cell_type": "markdown",
   "id": "74babf66-d8a2-4aa9-8ac5-dd464412fed5",
   "metadata": {
    "jp-MarkdownHeadingCollapsed": true
   },
   "source": [
    "# Stop spark session"
   ]
  },
  {
   "cell_type": "code",
   "execution_count": 12,
   "id": "66b0bfd4-ec94-4ba5-9a93-d6ded3a27502",
   "metadata": {},
   "outputs": [],
   "source": [
    "spark.stop()"
   ]
  }
 ],
 "metadata": {
  "kernelspec": {
   "display_name": "Python 3 (ipykernel)",
   "language": "python",
   "name": "python3"
  },
  "language_info": {
   "codemirror_mode": {
    "name": "ipython",
    "version": 3
   },
   "file_extension": ".py",
   "mimetype": "text/x-python",
   "name": "python",
   "nbconvert_exporter": "python",
   "pygments_lexer": "ipython3",
   "version": "3.10.12"
  }
 },
 "nbformat": 4,
 "nbformat_minor": 5
}
