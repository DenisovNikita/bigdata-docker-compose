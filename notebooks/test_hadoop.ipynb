{
 "cells": [
  {
   "cell_type": "code",
   "execution_count": 18,
   "id": "12bba469-b465-4266-9dc5-326a46167f32",
   "metadata": {},
   "outputs": [
    {
     "name": "stdout",
     "output_type": "stream",
     "text": [
      "2023-12-06 13:17:06 WARN  NativeCodeLoader:60 - Unable to load native-hadoop library for your platform... using builtin-java classes where applicable\n",
      "Safe mode is OFF\n"
     ]
    }
   ],
   "source": [
    "!hdfs dfsadmin -safemode leave"
   ]
  },
  {
   "cell_type": "code",
   "execution_count": 19,
   "id": "15d9326c-767a-4d79-8818-d174bcd02aa8",
   "metadata": {},
   "outputs": [
    {
     "name": "stdout",
     "output_type": "stream",
     "text": [
      "2023-12-06 13:17:24 WARN  NativeCodeLoader:60 - Unable to load native-hadoop library for your platform... using builtin-java classes where applicable\n"
     ]
    }
   ],
   "source": [
    "!hadoop fs -mkdir /home"
   ]
  },
  {
   "cell_type": "code",
   "execution_count": 22,
   "id": "235dc5ca-594e-465e-a313-2df0f29aa8e7",
   "metadata": {},
   "outputs": [
    {
     "name": "stdout",
     "output_type": "stream",
     "text": [
      "2023-12-06 13:17:47 WARN  NativeCodeLoader:60 - Unable to load native-hadoop library for your platform... using builtin-java classes where applicable\n"
     ]
    }
   ],
   "source": [
    "!hadoop fs -ls /home"
   ]
  },
  {
   "cell_type": "code",
   "execution_count": 23,
   "id": "cea5c79c-982a-461c-80ad-0eafac1cd8ba",
   "metadata": {},
   "outputs": [
    {
     "name": "stdout",
     "output_type": "stream",
     "text": [
      "2023-12-06 13:17:50 WARN  NativeCodeLoader:60 - Unable to load native-hadoop library for your platform... using builtin-java classes where applicable\n"
     ]
    }
   ],
   "source": [
    "!hadoop fs -put sample_file.txt /home/"
   ]
  },
  {
   "cell_type": "code",
   "execution_count": 24,
   "id": "7ee5c40e-5a8e-49e5-bad4-0a8dc0271929",
   "metadata": {},
   "outputs": [
    {
     "name": "stdout",
     "output_type": "stream",
     "text": [
      "2023-12-06 13:17:56 WARN  NativeCodeLoader:60 - Unable to load native-hadoop library for your platform... using builtin-java classes where applicable\n",
      "Found 1 items\n",
      "-rw-r--r--   3 root supergroup          3 2023-12-06 13:17 /home/sample_file.txt\n"
     ]
    }
   ],
   "source": [
    "!hadoop fs -ls /home"
   ]
  },
  {
   "cell_type": "code",
   "execution_count": 25,
   "id": "019975d8-fc50-4ada-a08c-f420139675c1",
   "metadata": {},
   "outputs": [
    {
     "name": "stdout",
     "output_type": "stream",
     "text": [
      "2023-12-06 13:18:08 WARN  NativeCodeLoader:60 - Unable to load native-hadoop library for your platform... using builtin-java classes where applicable\n",
      "kek"
     ]
    }
   ],
   "source": [
    "!hadoop fs -cat /home/sample_file.txt"
   ]
  },
  {
   "cell_type": "code",
   "execution_count": 26,
   "id": "6f27dcaf-c633-4af6-818c-7ee4004c44e6",
   "metadata": {},
   "outputs": [
    {
     "name": "stdout",
     "output_type": "stream",
     "text": [
      "Number of Maps  = 15\n",
      "Samples per Map = 1800\n",
      "2023-12-06 13:18:33 WARN  NativeCodeLoader:60 - Unable to load native-hadoop library for your platform... using builtin-java classes where applicable\n",
      "Wrote input for Map #0\n",
      "Wrote input for Map #1\n",
      "Wrote input for Map #2\n",
      "Wrote input for Map #3\n",
      "Wrote input for Map #4\n",
      "Wrote input for Map #5\n",
      "Wrote input for Map #6\n",
      "Wrote input for Map #7\n",
      "Wrote input for Map #8\n",
      "Wrote input for Map #9\n",
      "Wrote input for Map #10\n",
      "Wrote input for Map #11\n",
      "Wrote input for Map #12\n",
      "Wrote input for Map #13\n",
      "Wrote input for Map #14\n",
      "Starting Job\n",
      "2023-12-06 13:18:35 INFO  DefaultNoHARMFailoverProxyProvider:64 - Connecting to ResourceManager at resourcemanager/192.168.160.2:8032\n",
      "2023-12-06 13:18:35 INFO  JobResourceUploader:907 - Disabling Erasure Coding for path: /tmp/hadoop-yarn/staging/root/.staging/job_1701852445710_0001\n",
      "2023-12-06 13:18:35 INFO  FileInputFormat:300 - Total input files to process : 15\n",
      "2023-12-06 13:18:35 INFO  JobSubmitter:202 - number of splits:15\n",
      "2023-12-06 13:18:35 INFO  JobSubmitter:298 - Submitting tokens for job: job_1701852445710_0001\n",
      "2023-12-06 13:18:35 INFO  JobSubmitter:299 - Executing with tokens: []\n",
      "2023-12-06 13:18:36 INFO  Configuration:2854 - resource-types.xml not found\n",
      "2023-12-06 13:18:36 INFO  ResourceUtils:476 - Unable to find 'resource-types.xml'.\n",
      "2023-12-06 13:18:36 INFO  YarnClientImpl:338 - Submitted application application_1701852445710_0001\n",
      "2023-12-06 13:18:36 INFO  Job:1682 - The url to track the job: http://resourcemanager:8088/proxy/application_1701852445710_0001/\n",
      "2023-12-06 13:18:36 INFO  Job:1727 - Running job: job_1701852445710_0001\n",
      "2023-12-06 13:18:42 INFO  Job:1748 - Job job_1701852445710_0001 running in uber mode : false\n",
      "2023-12-06 13:18:42 INFO  Job:1755 -  map 0% reduce 0%\n",
      "2023-12-06 13:18:46 INFO  Job:1755 -  map 7% reduce 0%\n",
      "2023-12-06 13:18:47 INFO  Job:1755 -  map 13% reduce 0%\n",
      "2023-12-06 13:18:48 INFO  Job:1755 -  map 20% reduce 0%\n",
      "2023-12-06 13:18:49 INFO  Job:1755 -  map 27% reduce 0%\n",
      "2023-12-06 13:18:50 INFO  Job:1755 -  map 33% reduce 0%\n",
      "2023-12-06 13:18:51 INFO  Job:1755 -  map 40% reduce 0%\n",
      "2023-12-06 13:18:52 INFO  Job:1755 -  map 47% reduce 0%\n",
      "2023-12-06 13:18:53 INFO  Job:1755 -  map 53% reduce 0%\n",
      "2023-12-06 13:18:54 INFO  Job:1755 -  map 60% reduce 0%\n",
      "2023-12-06 13:18:55 INFO  Job:1755 -  map 67% reduce 0%\n",
      "2023-12-06 13:18:56 INFO  Job:1755 -  map 73% reduce 0%\n",
      "2023-12-06 13:18:58 INFO  Job:1755 -  map 80% reduce 0%\n",
      "2023-12-06 13:19:00 INFO  Job:1755 -  map 87% reduce 0%\n",
      "2023-12-06 13:19:01 INFO  Job:1755 -  map 93% reduce 0%\n",
      "2023-12-06 13:19:03 INFO  Job:1755 -  map 100% reduce 100%\n",
      "2023-12-06 13:19:03 INFO  Job:1766 - Job job_1701852445710_0001 completed successfully\n",
      "2023-12-06 13:19:03 INFO  Job:1773 - Counters: 54\n",
      "\tFile System Counters\n",
      "\t\tFILE: Number of bytes read=336\n",
      "\t\tFILE: Number of bytes written=4461042\n",
      "\t\tFILE: Number of read operations=0\n",
      "\t\tFILE: Number of large read operations=0\n",
      "\t\tFILE: Number of write operations=0\n",
      "\t\tHDFS: Number of bytes read=3860\n",
      "\t\tHDFS: Number of bytes written=215\n",
      "\t\tHDFS: Number of read operations=65\n",
      "\t\tHDFS: Number of large read operations=0\n",
      "\t\tHDFS: Number of write operations=3\n",
      "\t\tHDFS: Number of bytes read erasure-coded=0\n",
      "\tJob Counters \n",
      "\t\tLaunched map tasks=15\n",
      "\t\tLaunched reduce tasks=1\n",
      "\t\tRack-local map tasks=15\n",
      "\t\tTotal time spent by all maps in occupied slots (ms)=43424\n",
      "\t\tTotal time spent by all reduces in occupied slots (ms)=15132\n",
      "\t\tTotal time spent by all map tasks (ms)=21712\n",
      "\t\tTotal time spent by all reduce tasks (ms)=7566\n",
      "\t\tTotal vcore-milliseconds taken by all map tasks=21712\n",
      "\t\tTotal vcore-milliseconds taken by all reduce tasks=7566\n",
      "\t\tTotal megabyte-milliseconds taken by all map tasks=22233088\n",
      "\t\tTotal megabyte-milliseconds taken by all reduce tasks=7747584\n",
      "\tMap-Reduce Framework\n",
      "\t\tMap input records=15\n",
      "\t\tMap output records=30\n",
      "\t\tMap output bytes=270\n",
      "\t\tMap output materialized bytes=420\n",
      "\t\tInput split bytes=2090\n",
      "\t\tCombine input records=0\n",
      "\t\tCombine output records=0\n",
      "\t\tReduce input groups=2\n",
      "\t\tReduce shuffle bytes=420\n",
      "\t\tReduce input records=30\n",
      "\t\tReduce output records=0\n",
      "\t\tSpilled Records=60\n",
      "\t\tShuffled Maps =15\n",
      "\t\tFailed Shuffles=0\n",
      "\t\tMerged Map outputs=15\n",
      "\t\tGC time elapsed (ms)=492\n",
      "\t\tCPU time spent (ms)=3670\n",
      "\t\tPhysical memory (bytes) snapshot=4340801536\n",
      "\t\tVirtual memory (bytes) snapshot=39244042240\n",
      "\t\tTotal committed heap usage (bytes)=3682598912\n",
      "\t\tPeak Map Physical memory (bytes)=297799680\n",
      "\t\tPeak Map Virtual memory (bytes)=2453852160\n",
      "\t\tPeak Reduce Physical memory (bytes)=213442560\n",
      "\t\tPeak Reduce Virtual memory (bytes)=2462932992\n",
      "\tShuffle Errors\n",
      "\t\tBAD_ID=0\n",
      "\t\tCONNECTION=0\n",
      "\t\tIO_ERROR=0\n",
      "\t\tWRONG_LENGTH=0\n",
      "\t\tWRONG_MAP=0\n",
      "\t\tWRONG_REDUCE=0\n",
      "\tFile Input Format Counters \n",
      "\t\tBytes Read=1770\n",
      "\tFile Output Format Counters \n",
      "\t\tBytes Written=97\n",
      "Job Finished in 28.529 seconds\n",
      "Estimated value of Pi is 3.14162962962962962963\n"
     ]
    }
   ],
   "source": [
    "!hadoop jar /opt/hadoop/share/hadoop/mapreduce/hadoop-mapreduce-examples-3.3.6.jar pi 15 1800"
   ]
  }
 ],
 "metadata": {
  "kernelspec": {
   "display_name": "Python 3 (ipykernel)",
   "language": "python",
   "name": "python3"
  },
  "language_info": {
   "codemirror_mode": {
    "name": "ipython",
    "version": 3
   },
   "file_extension": ".py",
   "mimetype": "text/x-python",
   "name": "python",
   "nbconvert_exporter": "python",
   "pygments_lexer": "ipython3",
   "version": "3.10.12"
  }
 },
 "nbformat": 4,
 "nbformat_minor": 5
}
